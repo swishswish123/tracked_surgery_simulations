{
  "nbformat": 4,
  "nbformat_minor": 0,
  "metadata": {
    "colab": {
      "provenance": [],
      "authorship_tag": "ABX9TyP8p+xKNsWUM8s7L3778xwv",
      "include_colab_link": true
    },
    "kernelspec": {
      "name": "python3",
      "display_name": "Python 3"
    },
    "language_info": {
      "name": "python"
    }
  },
  "cells": [
    {
      "cell_type": "markdown",
      "metadata": {
        "id": "view-in-github",
        "colab_type": "text"
      },
      "source": [
        "<a href=\"https://colab.research.google.com/github/swishswish123/tracked_surgery_simulations/blob/main/tracked_endoscope.ipynb\" target=\"_parent\"><img src=\"https://colab.research.google.com/assets/colab-badge.svg\" alt=\"Open In Colab\"/></a>"
      ]
    },
    {
      "cell_type": "markdown",
      "source": [
        "# 2) TRACKED ENDOSCOPE SIMULATION\n",
        "\n",
        "In this notebook we want to study the accuracy of a tracked endoscope, and what the expected accuracy of an overlay will be. The overlay accuracy, could be measured in terms of accuracy in 3D in the endoscope camera frame, or in terms of 2D pixel accuracy.\n",
        "\n",
        "In order to make this a like-for-like comparison, we should keep most of the reference data identical. The difference now, is we swap a pointer for an endoscope. We will need an additional hand-eye calibration, and reference data to project from camera space onto image space, but we leave all other data the same. "
      ],
      "metadata": {
        "id": "IekbERjTlXuf"
      }
    },
    {
      "cell_type": "markdown",
      "source": [
        "## imports and utility functions\n"
      ],
      "metadata": {
        "id": "VE7ThQKImkF9"
      }
    },
    {
      "cell_type": "code",
      "execution_count": null,
      "metadata": {
        "id": "QSmWxIolkcdw"
      },
      "outputs": [],
      "source": [
        "# github repo which contains all the images\n",
        "!git clone https://github.com/swishswish123/tracked_surgery_simulations.git repo\n"
      ]
    },
    {
      "cell_type": "code",
      "source": [],
      "metadata": {
        "id": "mKyNLNCmm43X"
      },
      "execution_count": null,
      "outputs": []
    },
    {
      "cell_type": "code",
      "source": [],
      "metadata": {
        "id": "x_1kpUJUm5LJ"
      },
      "execution_count": null,
      "outputs": []
    },
    {
      "cell_type": "markdown",
      "source": [
        "## Background, System Layout, goal and assumptions\n",
        "\n",
        "The following diagram shows the layout of the navigation system and the different components involved in the surgery when using a tracked endoscope for AR.\n",
        "\n"
      ],
      "metadata": {
        "id": "U3eTEzkMm5jm"
      }
    },
    {
      "cell_type": "code",
      "source": [
        "Image(filename=\"./repo/assets/endoscope_setup.png\")\n"
      ],
      "metadata": {
        "id": "kt6MP2Rsm9kl"
      },
      "execution_count": null,
      "outputs": []
    },
    {
      "cell_type": "markdown",
      "source": [
        "The goal is to be able to display some segmented piece of information from the pre-operative MRI in MRI coordinates onto the endoscopic video:"
      ],
      "metadata": {
        "id": "NpQ50pCrn10d"
      }
    },
    {
      "cell_type": "markdown",
      "source": [
        "## Assumptions"
      ],
      "metadata": {
        "id": "j2cCDL5WoNNQ"
      }
    },
    {
      "cell_type": "code",
      "source": [
        "# P - , the length of the endoscope.\n",
        "LENGTH_OF_ENDOSCOPE = 180 # use 300 after merging\n",
        "\n",
        "# D - z distance from camera to plane where everything is located\n",
        "DISTANCE_FROM_CAM = 2000 # since the camera and patient reference are aligned in the x and y directions, only distance is in z\n",
        "\n",
        "# 0 - angle of pointer\n",
        "ENDOSCOPE_ANGLE = 45\n",
        "\n",
        "# Yc - distances from tumour to patient reference\n",
        "TUMOUR_PATREF = 300  \n",
        "\n",
        "# NDI quotes 0.25mm for Polaris Spectra, some papers estimate it at 0.17mm\n",
        "#TYPICAL_TRACKING_SIGMA = 0.25\n",
        "\n",
        "# For Model 2 and 3, using an endoscope, this determines the distance of a target of interest from the endoscope.\n",
        "#working_distance = 50\n",
        "\n",
        "# for simulation to be reproducible\n",
        "NUMBER_SAMPLES = 10\n",
        "\n",
        "X_T = 100 # head length (about 20cm)\n",
        "Y_T = 130 # menton to top of head (about 25cm)\n",
        "Z_T = 80 # head bredth (about 15cm)\n",
        "\n",
        "END_SIGMA=0.5\n",
        "SIGMA_STEP=0.01"
      ],
      "metadata": {
        "id": "IoJlEzgLoH3o"
      },
      "execution_count": null,
      "outputs": []
    }
  ]
}